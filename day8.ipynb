{
 "cells": [
  {
   "cell_type": "markdown",
   "metadata": {},
   "source": []
  },
  {
   "cell_type": "code",
   "execution_count": 4,
   "metadata": {},
   "outputs": [
    {
     "name": "stdout",
     "output_type": "stream",
     "text": [
      "1693\n"
     ]
    }
   ],
   "source": [
    "import io\n",
    "\n",
    "with open(\"day8.txt\") as day:\n",
    "\n",
    "    total =0 \n",
    "    rows = []\n",
    "    while( line := day.readline() ):\n",
    "        rows.append([int(x) for x in line.strip()])\n",
    "\n",
    "    height = len(rows)\n",
    "    width = len(rows[0])\n",
    "    for x in range(1,width-1):\n",
    "        for y in range(1,height-1):\n",
    "            uVisible = True\n",
    "            dVisible = True\n",
    "            lVisible = True\n",
    "            rVisible = True\n",
    "            val = rows[x][y]\n",
    "            #up\n",
    "            for a in range(0,y):\n",
    "                if rows[x][a] >= val:\n",
    "                    uVisible = False\n",
    "                    #break\n",
    "\n",
    "            #down\n",
    "            for a in range(y+1, height):\n",
    "                if rows[x][a] >= val:\n",
    "                    dVisible = False\n",
    "                    #break\n",
    "        \n",
    "            #left\n",
    "            for a in range(0, x):\n",
    "                if rows[a][y] >= val:\n",
    "                    lVisible = False\n",
    "                    #break\n",
    "                    \n",
    "            #right\n",
    "            for a in range(x+1, width):\n",
    "                if rows[a][y] >= val:\n",
    "                    rVisible = False\n",
    "                    #break\n",
    "                       \n",
    "            if uVisible or dVisible or lVisible or rVisible:\n",
    "                total+=1\n",
    "\n",
    "    total += (4 * width) -4\n",
    "\n",
    "    print(total)\n"
   ]
  },
  {
   "cell_type": "markdown",
   "metadata": {},
   "source": []
  }
 ],
 "metadata": {
  "kernelspec": {
   "display_name": "Python 3.10.6 64-bit",
   "language": "python",
   "name": "python3"
  },
  "language_info": {
   "codemirror_mode": {
    "name": "ipython",
    "version": 3
   },
   "file_extension": ".py",
   "mimetype": "text/x-python",
   "name": "python",
   "nbconvert_exporter": "python",
   "pygments_lexer": "ipython3",
   "version": "3.8.10"
  },
  "orig_nbformat": 4,
  "vscode": {
   "interpreter": {
    "hash": "916dbcbb3f70747c44a77c7bcd40155683ae19c65e1c03b4aa3499c5328201f1"
   }
  }
 },
 "nbformat": 4,
 "nbformat_minor": 2
}
