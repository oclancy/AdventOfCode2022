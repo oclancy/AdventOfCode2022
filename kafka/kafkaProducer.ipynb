{
 "cells": [
  {
   "cell_type": "code",
   "execution_count": 4,
   "metadata": {},
   "outputs": [
    {
     "name": "stdout",
     "output_type": "stream",
     "text": [
      "Test2\n",
      "2\n",
      "1\n"
     ]
    }
   ],
   "source": [
    "# manually assign the partition list for the consumer\n",
    "from kafka import KafkaProducer\n",
    "from kafka.errors import KafkaError\n",
    "\n",
    "producer = KafkaProducer()\n",
    "\n",
    "# Asynchronous by default\n",
    "future = producer.send('Test2', b'raw_bytes', partition=2)\n",
    "\n",
    "# Block for 'synchronous' sends\n",
    "try:\n",
    "    record_metadata = future.get(timeout=10)\n",
    "except KafkaError:\n",
    "    # Decide what to do if produce request failed...\n",
    "    log.exception()\n",
    "    pass\n",
    "\n",
    "# Successful result returns assigned partition and offset\n",
    "print (record_metadata.topic)\n",
    "print (record_metadata.partition)\n",
    "print (record_metadata.offset)"
   ]
  }
 ],
 "metadata": {
  "kernelspec": {
   "display_name": "Python 3",
   "language": "python",
   "name": "python3"
  },
  "language_info": {
   "codemirror_mode": {
    "name": "ipython",
    "version": 3
   },
   "file_extension": ".py",
   "mimetype": "text/x-python",
   "name": "python",
   "nbconvert_exporter": "python",
   "pygments_lexer": "ipython3",
   "version": "3.10.6 (main, Nov  2 2022, 18:53:38) [GCC 11.3.0]"
  },
  "orig_nbformat": 4,
  "vscode": {
   "interpreter": {
    "hash": "916dbcbb3f70747c44a77c7bcd40155683ae19c65e1c03b4aa3499c5328201f1"
   }
  }
 },
 "nbformat": 4,
 "nbformat_minor": 2
}
