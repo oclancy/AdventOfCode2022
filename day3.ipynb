{
 "cells": [
  {
   "cell_type": "code",
   "execution_count": 19,
   "metadata": {},
   "outputs": [
    {
     "name": "stdout",
     "output_type": "stream",
     "text": [
      "8018\n"
     ]
    }
   ],
   "source": [
    "import io\n",
    "\n",
    "with open(\"day3.txt\") as day:\n",
    "    total = 0\n",
    "    while (line := day.readline()):\n",
    "        line = line.strip()\n",
    "        length = len(line)\n",
    "        left = line[:int(length/2)]\n",
    "        right = line[int(length/2):]\n",
    "\n",
    "        leftDict={}\n",
    "        for x in range(0,len(left)):\n",
    "            leftDict[ left[x] ] = left[x]\n",
    "\n",
    "        for x in right:\n",
    "            if(x in leftDict):\n",
    "                if ord(x) > 96:\n",
    "                    total += (ord(x) - ord('a'))+1\n",
    "                elif ord(x) > 64:\n",
    "                    total += (ord(x) - ord('A'))+27\n",
    "                break\n",
    "                \n",
    "print(total)\n",
    "\n",
    "\n",
    "            \n",
    "\n",
    "\n",
    "\n"
   ]
  },
  {
   "cell_type": "code",
   "execution_count": 27,
   "metadata": {},
   "outputs": [
    {
     "name": "stdout",
     "output_type": "stream",
     "text": [
      "2518\n"
     ]
    }
   ],
   "source": [
    "import io\n",
    "\n",
    "def toDict(line):\n",
    "    dict={}\n",
    "    for x in range(0,len(line)):\n",
    "        dict[ line[x] ] = line[x]\n",
    "    return dict\n",
    "\n",
    "with open(\"day3.txt\") as day:\n",
    "    total = 0\n",
    "    while (line := day.readline()):\n",
    "        line2 = day.readline()\n",
    "        line3 = day.readline()\n",
    "        line = line.strip()\n",
    "        line2 = line2.strip()\n",
    "        line3 = line3.strip()\n",
    "        \n",
    "        l1Dict= toDict(line)\n",
    "        l2Dict= toDict(line2)\n",
    "        l3Dict= toDict(line3)\n",
    "        \n",
    "        for x in l1Dict:\n",
    "            if(x in l2Dict and x in l3Dict):\n",
    "                if ord(x) > 96:\n",
    "                    total += (ord(x) - ord('a'))+1\n",
    "                elif ord(x) > 64:\n",
    "                    total += (ord(x) - ord('A'))+27\n",
    "                break\n",
    "                \n",
    "print(total)\n"
   ]
  }
 ],
 "metadata": {
  "kernelspec": {
   "display_name": "Python 3.10.6 64-bit",
   "language": "python",
   "name": "python3"
  },
  "language_info": {
   "codemirror_mode": {
    "name": "ipython",
    "version": 3
   },
   "file_extension": ".py",
   "mimetype": "text/x-python",
   "name": "python",
   "nbconvert_exporter": "python",
   "pygments_lexer": "ipython3",
   "version": "3.10.6"
  },
  "orig_nbformat": 4,
  "vscode": {
   "interpreter": {
    "hash": "916dbcbb3f70747c44a77c7bcd40155683ae19c65e1c03b4aa3499c5328201f1"
   }
  }
 },
 "nbformat": 4,
 "nbformat_minor": 2
}
