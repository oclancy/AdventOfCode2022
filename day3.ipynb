{
 "cells": [
  {
   "cell_type": "code",
   "execution_count": 19,
   "metadata": {},
   "outputs": [
    {
     "name": "stdout",
     "output_type": "stream",
     "text": [
      "8018\n"
     ]
    }
   ],
   "source": [
    "import io\n",
    "\n",
    "with open(\"day3.txt\") as day:\n",
    "    total = 0\n",
    "    while (line := day.readline()):\n",
    "        line = line.strip()\n",
    "        length = len(line)\n",
    "        left = line[:int(length/2)]\n",
    "        right = line[int(length/2):]\n",
    "\n",
    "        leftDict={}\n",
    "        for x in range(0,len(left)):\n",
    "            leftDict[ left[x] ] = left[x]\n",
    "\n",
    "        for x in right:\n",
    "            if(x in leftDict):\n",
    "                if ord(x) > 96:\n",
    "                    total += (ord(x) - ord('a'))+1\n",
    "                elif ord(x) > 64:\n",
    "                    total += (ord(x) - ord('A'))+27\n",
    "                break\n",
    "                \n",
    "print(total)\n",
    "\n",
    "\n",
    "            \n",
    "\n",
    "\n",
    "\n"
   ]
  },
  {
   "cell_type": "code",
   "execution_count": 17,
   "metadata": {},
   "outputs": [
    {
     "name": "stdout",
     "output_type": "stream",
     "text": [
      "26\n"
     ]
    }
   ],
   "source": [
    "print(ord('A')-ord('A') +26)"
   ]
  },
  {
   "cell_type": "code",
   "execution_count": 20,
   "metadata": {},
   "outputs": [
    {
     "name": "stdout",
     "output_type": "stream",
     "text": [
      "8295\n"
     ]
    }
   ],
   "source": [
    "import io\n",
    "\n",
    "A='R'\n",
    "B='P'\n",
    "C='S'\n",
    "\n",
    "X=1\n",
    "Y=2\n",
    "Z=3\n",
    "\n",
    "win=6\n",
    "draw=3\n",
    "lose=0\n",
    "\n",
    "total =0\n",
    "\n",
    "def translatePlay(l,r):\n",
    "\n",
    "    #lose =x\n",
    "    #draw =y\n",
    "    #win = z\n",
    "    match l:\n",
    "        case 'R':\n",
    "            match r:\n",
    "                case 'X': return 'S'\n",
    "                case 'Y': return 'R'\n",
    "                case 'Z': return 'P' \n",
    "        case 'P':\n",
    "            match r:\n",
    "                case 'X': return 'R'\n",
    "                case 'Y': return 'P'\n",
    "                case 'Z': return 'S'                \n",
    "        case 'S':\n",
    "            match r:\n",
    "                case 'X': return 'P'\n",
    "                case 'Y': return 'S'\n",
    "                case 'Z': return 'R' \n",
    "\n",
    "\n",
    "def verdict( l, r):\n",
    "    match l:\n",
    "        case 'R':\n",
    "            match r:\n",
    "                case 'P': return win\n",
    "                case 'R': return draw\n",
    "                case 'S': return lose \n",
    "        case 'P':\n",
    "            match r:\n",
    "                case 'P': return draw\n",
    "                case 'R': return lose\n",
    "                case 'S': return win                \n",
    "        case 'S':\n",
    "            match r:\n",
    "                case 'P': return lose\n",
    "                case 'R': return win\n",
    "                case 'S': return draw\n",
    "\n",
    "def translateL(char):\n",
    "    match char:\n",
    "        case 'A':return 'R'\n",
    "        case 'B':return 'P'\n",
    "        case 'C':return 'S'\n",
    "\n",
    "with open(\"day2.txt\") as day1:\n",
    "     while (line := day1.readline()):\n",
    "        arr = line.strip().split(' ')\n",
    "        r = translatePlay(translateL(arr[0]),arr[1])\n",
    "        l =  translateL(arr[0])\n",
    "        res = verdict( l, r ) \n",
    "        match r:\n",
    "            case 'R': total += 1 + res\n",
    "            case 'P': total += 2 + res\n",
    "            case 'S': total += 3 + res\n",
    "\n",
    "print(total)"
   ]
  }
 ],
 "metadata": {
  "kernelspec": {
   "display_name": "Python 3.10.6 64-bit",
   "language": "python",
   "name": "python3"
  },
  "language_info": {
   "codemirror_mode": {
    "name": "ipython",
    "version": 3
   },
   "file_extension": ".py",
   "mimetype": "text/x-python",
   "name": "python",
   "nbconvert_exporter": "python",
   "pygments_lexer": "ipython3",
   "version": "3.10.6"
  },
  "orig_nbformat": 4,
  "vscode": {
   "interpreter": {
    "hash": "916dbcbb3f70747c44a77c7bcd40155683ae19c65e1c03b4aa3499c5328201f1"
   }
  }
 },
 "nbformat": 4,
 "nbformat_minor": 2
}
