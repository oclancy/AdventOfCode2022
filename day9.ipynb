{
 "cells": [
  {
   "cell_type": "markdown",
   "metadata": {},
   "source": []
  },
  {
   "cell_type": "code",
   "execution_count": 11,
   "metadata": {},
   "outputs": [],
   "source": [
    "import io\n",
    "\n",
    "def pos(i:int):\n",
    "    i+=1\n",
    "    return i\n",
    "\n",
    "def neg(i:int):\n",
    "    i-=1    \n",
    "    return i\n",
    "\n",
    "with open(\"day9.txt\") as day:\n",
    "\n",
    "    total =0 \n",
    "    visited = {(0,0)}\n",
    "    H=(0,0)\n",
    "    T=(0,0)\n",
    "    op = pos\n",
    "    target = []\n",
    "    while( line := day.readline() ):\n",
    "        arr= line.strip().split(' ')\n",
    "        match arr[0]:\n",
    "            case 'U': \n",
    "                op=pos\n",
    "            case 'D': \n",
    "                op=neg\n",
    "            case 'L': \n",
    "                op=neg\n",
    "            case 'R': \n",
    "                op=pos\n",
    "        \n",
    "        for x in range(0, int(arr[1])):\n",
    "            #move H\n",
    "            if(arr[0] == 'U' or arr[0]=='D'):\n",
    "                H=(H[0], op(H[1]))\n",
    "            else:\n",
    "                H=(op(H[0]), H[1])\n",
    "            \n",
    "            # moved left or right\n",
    "            if abs(H[0] - T[0]) > 1:\n",
    "                if H[1] - T[1] == 1: # diagonal up\n",
    "                    T=(op(T[0]), T[1]+1)\n",
    "                elif H[1] - T[1] == -1: # diagonal down\n",
    "                    T=(op(T[0]), T[1]-1)\n",
    "                else:\n",
    "                    T=(op(T[0]), T[1]) # just follow\n",
    "\n",
    "            # moved up or down\n",
    "            if abs(H[1] - T[1]) > 1:\n",
    "                if H[0] - T[0] == 1: # diagonal right\n",
    "                    T=(T[0]+1, op(T[1]))\n",
    "                elif H[0] - T[0] == -1: # diagonal left\n",
    "                    T=(T[0]-1, op(T[1]))\n",
    "                else:\n",
    "                    T=(T[0], op(T[1])) # just follow\n",
    "            \n",
    "            visited.add(T)   \n",
    "            \n",
    "    \n",
    "\n",
    "    print(len(visited))\n"
   ]
  },
  {
   "cell_type": "code",
   "execution_count": 2,
   "metadata": {},
   "outputs": [
    {
     "name": "stdout",
     "output_type": "stream",
     "text": [
      "125\n"
     ]
    }
   ],
   "source": []
  },
  {
   "cell_type": "markdown",
   "metadata": {},
   "source": []
  }
 ],
 "metadata": {
  "kernelspec": {
   "display_name": "Python 3.10.6 64-bit",
   "language": "python",
   "name": "python3"
  },
  "language_info": {
   "codemirror_mode": {
    "name": "ipython",
    "version": 3
   },
   "file_extension": ".py",
   "mimetype": "text/x-python",
   "name": "python",
   "nbconvert_exporter": "python",
   "pygments_lexer": "ipython3",
   "version": "3.10.6 (main, Nov  2 2022, 18:53:38) [GCC 11.3.0]"
  },
  "orig_nbformat": 4,
  "vscode": {
   "interpreter": {
    "hash": "916dbcbb3f70747c44a77c7bcd40155683ae19c65e1c03b4aa3499c5328201f1"
   }
  }
 },
 "nbformat": 4,
 "nbformat_minor": 2
}
