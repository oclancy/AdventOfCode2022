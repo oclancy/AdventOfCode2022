{
 "cells": [
  {
   "cell_type": "code",
   "execution_count": 18,
   "metadata": {
    "dotnet_interactive": {
     "language": "pwsh"
    },
    "polyglot_notebook": {
     "language": "pwsh"
    },
    "vscode": {
     "languageId": "dotnet-interactive.pwsh"
    }
   },
   "outputs": [
    {
     "name": "stdout",
     "output_type": "stream",
     "text": [
      "66796\n",
      "68012\n",
      "72602\n",
      "best cals = 72602\n",
      "top3 cals = 207410\n"
     ]
    }
   ],
   "source": [
    "$currCal =0\n",
    "$bestCal =0\n",
    "$allCals = [System.Collections.Generic.List[int]]::new()\n",
    "Get-Content \"day1.txt\" | ForEach-Object{\n",
    "    if( [string]::IsNullOrEmpty($_))\n",
    "    {\n",
    "        $bestCal = [System.Math]::Max($currCal,$bestCal)\n",
    "        $allCals.Add($currCal)\n",
    "        $currCal = 0\n",
    "    }\n",
    "    else\n",
    "    {\n",
    "        $currCal+= [Int]::Parse($_)\n",
    "    }\n",
    "}\n",
    "\n",
    "$allCals.Sort()\n",
    "$allCals | Select-Object -Last 3 | Write-Output\n",
    "$top3 = $allCals | Select-Object -Last 3 | Measure-Object -Sum\n",
    "\n",
    "printf(\"best cals = $bestcal\")\n",
    "printf(\"top3 cals = $($top3.Sum)\")\n",
    "\n",
    "\n",
    "\n",
    "\n"
   ]
  }
 ],
 "metadata": {
  "kernelspec": {
   "display_name": ".NET (PowerShell)",
   "language": "PowerShell",
   "name": ".net-pwsh"
  },
  "language_info": {
   "name": "PowerShell"
  }
 },
 "nbformat": 4,
 "nbformat_minor": 2
}
