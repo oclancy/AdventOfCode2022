{
 "cells": [
  {
   "cell_type": "markdown",
   "metadata": {},
   "source": []
  },
  {
   "cell_type": "code",
   "execution_count": 35,
   "metadata": {},
   "outputs": [
    {
     "name": "stdout",
     "output_type": "stream",
     "text": [
      "13920\n"
     ]
    }
   ],
   "source": [
    "import io\n",
    "\n",
    "class Monkey:\n",
    "    def __init__(self, items, worryFn, testFn):\n",
    "        self.items: list[int] = items\n",
    "        self.testfn = testfn\n",
    "        self.worryFn = worryFn\n",
    "        self.total=0\n",
    "\n",
    "def getOperation(op):\n",
    "\n",
    "    match op:\n",
    "        case '*':\n",
    "            return lambda x,y: x*y\n",
    "        case '+':\n",
    "            return lambda x,y: x+y\n",
    "\n",
    "def createWorryFn(temp):\n",
    "    return lambda old, temp=temp: getOperation(temp[4])(old, old if temp[5].isalpha() else int(temp[5])) \n",
    "\n",
    "def createTestFn(test, trueMonkey, falseMonkey):\n",
    "    return lambda x, test=test, trueMonkey=trueMonkey, falseMonkey=falseMonkey: trueMonkey if x%test == 0 else falseMonkey\n",
    "\n",
    "with open(\"day11.txt\") as day:\n",
    "\n",
    "    monkeys = [  ]\n",
    "\n",
    "    while( line := day.readline() ):\n",
    "        if line.strip():\n",
    "            items = [ int(x) for x in day.readline().strip().split(':')[1].split(',') ]\n",
    "            temp=day.readline().strip().split(':')[1].split(' ')\n",
    "            worryFn = createWorryFn(temp)\n",
    "            test = int(day.readline().strip().split(':')[1].split(' ')[3])\n",
    "            trueMonkey = int(day.readline().strip().split(':')[1].split(' ')[4])\n",
    "            falseMonkey = int(day.readline().strip().split(':')[1].split(' ')[4])\n",
    "            testfn = createTestFn( test, trueMonkey, falseMonkey )\n",
    "            monkeys.append( Monkey( items, worryFn, testfn ) )\n",
    "\n",
    "    x=0\n",
    "    while x < 20:\n",
    "        x+=1\n",
    "        for monkey in monkeys:\n",
    "            monkey.items.reverse()\n",
    "            for item in monkey.items:\n",
    "                worry = monkey.items.pop()\n",
    "                worry = monkey.worryFn(worry)\n",
    "                worry = int(worry/3)\n",
    "                monkey.total += 1\n",
    "                sendTo = monkey.testfn(worry)\n",
    "                monkeys[sendTo].items.append(worry)\n",
    "    \n",
    "    monkeys.sort(key= lambda m: m.total, reverse=True)\n",
    "\n",
    "    print(monkeys[0].total * monkeys[1].total)       \n",
    "        "
   ]
  },
  {
   "cell_type": "markdown",
   "metadata": {},
   "source": []
  }
 ],
 "metadata": {
  "kernelspec": {
   "display_name": "Python 3.10.6 64-bit",
   "language": "python",
   "name": "python3"
  },
  "language_info": {
   "codemirror_mode": {
    "name": "ipython",
    "version": 3
   },
   "file_extension": ".py",
   "mimetype": "text/x-python",
   "name": "python",
   "nbconvert_exporter": "python",
   "pygments_lexer": "ipython3",
   "version": "3.10.6 (main, Nov  2 2022, 18:53:38) [GCC 11.3.0]"
  },
  "orig_nbformat": 4,
  "vscode": {
   "interpreter": {
    "hash": "916dbcbb3f70747c44a77c7bcd40155683ae19c65e1c03b4aa3499c5328201f1"
   }
  }
 },
 "nbformat": 4,
 "nbformat_minor": 2
}
