{
 "cells": [
  {
   "cell_type": "markdown",
   "metadata": {},
   "source": []
  },
  {
   "cell_type": "code",
   "execution_count": 26,
   "metadata": {},
   "outputs": [
    {
     "ename": "ValueError",
     "evalue": "invalid literal for int() with base 10: 'old'",
     "output_type": "error",
     "traceback": [
      "\u001b[0;31m---------------------------------------------------------------------------\u001b[0m",
      "\u001b[0;31mValueError\u001b[0m                                Traceback (most recent call last)",
      "Cell \u001b[0;32mIn[26], line 46\u001b[0m\n\u001b[1;32m     44\u001b[0m \u001b[39mfor\u001b[39;00m item \u001b[39min\u001b[39;00m monkey\u001b[39m.\u001b[39mitems:\n\u001b[1;32m     45\u001b[0m     worry \u001b[39m=\u001b[39m monkey\u001b[39m.\u001b[39mitems\u001b[39m.\u001b[39mpop()\n\u001b[0;32m---> 46\u001b[0m     worry \u001b[39m=\u001b[39m monkey\u001b[39m.\u001b[39;49mworryFn(worry)\n\u001b[1;32m     47\u001b[0m     worry \u001b[39m=\u001b[39m \u001b[39mint\u001b[39m(worry\u001b[39m/\u001b[39m\u001b[39m3\u001b[39m)\n\u001b[1;32m     48\u001b[0m     monkey\u001b[39m.\u001b[39mtotal \u001b[39m+\u001b[39m\u001b[39m=\u001b[39m \u001b[39m1\u001b[39m\n",
      "Cell \u001b[0;32mIn[26], line 19\u001b[0m, in \u001b[0;36mcreateWorryFn.<locals>.<lambda>\u001b[0;34m(old, temp)\u001b[0m\n\u001b[1;32m     18\u001b[0m \u001b[39mdef\u001b[39;00m \u001b[39mcreateWorryFn\u001b[39m(temp):\n\u001b[0;32m---> 19\u001b[0m     \u001b[39mreturn\u001b[39;00m \u001b[39mlambda\u001b[39;00m old, temp\u001b[39m=\u001b[39mtemp: getOperation(temp[\u001b[39m4\u001b[39m])(old, \u001b[39mint\u001b[39;49m(temp[\u001b[39m5\u001b[39;49m]))\n",
      "\u001b[0;31mValueError\u001b[0m: invalid literal for int() with base 10: 'old'"
     ]
    }
   ],
   "source": [
    "import io\n",
    "\n",
    "class Monkey:\n",
    "    def __init__(self, items, worryFn, testFn):\n",
    "        self.items: list[int] = items\n",
    "        self.testfn = testfn\n",
    "        self.worryFn = worryFn\n",
    "        self.total=0\n",
    "\n",
    "def getOperation(op):\n",
    "\n",
    "    match op:\n",
    "        case '*':\n",
    "            return lambda x,y: x*y\n",
    "        case '+':\n",
    "            return lambda x,y: x+y\n",
    "\n",
    "def createWorryFn(temp):\n",
    "    return lambda old, temp=temp: getOperation(temp[4])(old, int(temp[5])) \n",
    "\n",
    "def createTestFn(test, trueMonkey, falseMonkey):\n",
    "    return lambda x, test=test, trueMonkey=trueMonkey, falseMonkey=falseMonkey: trueMonkey if x%test == 0 else falseMonkey\n",
    "\n",
    "with open(\"day11.txt\") as day:\n",
    "\n",
    "    monkeys = [  ]\n",
    "\n",
    "    while( line := day.readline() ):\n",
    "        if line.strip():\n",
    "            items = [ int(x) for x in day.readline().strip().split(':')[1].split(',') ]\n",
    "            temp=day.readline().strip().split(':')[1].split(' ')\n",
    "            worryFn = createWorryFn(temp)\n",
    "            test = int(day.readline().strip().split(':')[1].split(' ')[3])\n",
    "            trueMonkey = int(day.readline().strip().split(':')[1].split(' ')[4])\n",
    "            falseMonkey = int(day.readline().strip().split(':')[1].split(' ')[4])\n",
    "            testfn =createTestFn( test, trueMonkey, falseMonkey )\n",
    "            monkeys.append( Monkey( items, worryFn, testfn ) )\n",
    "\n",
    "    x=0\n",
    "    while x <= 20:\n",
    "        x+=1\n",
    "        for monkey in monkeys:\n",
    "            monkey.items.reverse()\n",
    "            for item in monkey.items:\n",
    "                worry = monkey.items.pop()\n",
    "                worry = monkey.worryFn(worry)\n",
    "                worry = int(worry/3)\n",
    "                monkey.total += 1\n",
    "                monkeys[monkey.testfn(worry)].items.append(worry)\n",
    "    \n",
    "    monkeys.sort(key= lambda m: m.total, reverse=True)\n",
    "\n",
    "    print(monkeys[0].total * monkeys[1].total)       \n",
    "        "
   ]
  },
  {
   "cell_type": "markdown",
   "metadata": {},
   "source": []
  },
  {
   "cell_type": "code",
   "execution_count": 16,
   "metadata": {},
   "outputs": [
    {
     "name": "stdout",
     "output_type": "stream",
     "text": [
      "35\n"
     ]
    }
   ],
   "source": [
    "print(int(107 / 3))"
   ]
  }
 ],
 "metadata": {
  "kernelspec": {
   "display_name": "Python 3.10.6 64-bit",
   "language": "python",
   "name": "python3"
  },
  "language_info": {
   "codemirror_mode": {
    "name": "ipython",
    "version": 3
   },
   "file_extension": ".py",
   "mimetype": "text/x-python",
   "name": "python",
   "nbconvert_exporter": "python",
   "pygments_lexer": "ipython3",
   "version": "3.10.6"
  },
  "orig_nbformat": 4,
  "vscode": {
   "interpreter": {
    "hash": "916dbcbb3f70747c44a77c7bcd40155683ae19c65e1c03b4aa3499c5328201f1"
   }
  }
 },
 "nbformat": 4,
 "nbformat_minor": 2
}
