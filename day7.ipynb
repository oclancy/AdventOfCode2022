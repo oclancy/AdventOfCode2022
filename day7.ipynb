{
 "cells": [
  {
   "cell_type": "markdown",
   "metadata": {},
   "source": []
  },
  {
   "cell_type": "code",
   "execution_count": 11,
   "metadata": {},
   "outputs": [
    {
     "name": "stdout",
     "output_type": "stream",
     "text": [
      "1706\n"
     ]
    }
   ],
   "source": [
    "import io\n",
    "\n",
    "class Directory:\n",
    "    def __init__(self, name, parent):\n",
    "        self.name = name\n",
    "        self.files = []\n",
    "        self.directories = {}\n",
    "        self.parent = parent\n",
    "    \n",
    "    def size(self):\n",
    "        size=0\n",
    "        for d in self.directories:\n",
    "            size + d.size()\n",
    "\n",
    "        for f in self.files:\n",
    "            size + f.size()\n",
    "        \n",
    "        return size\n",
    "\n",
    "\n",
    "class File:\n",
    "    def __init__(self, name:str, size:int):\n",
    "            self.name = name\n",
    "            self.size = size\n",
    "    \n",
    "    def size (self):\n",
    "        return self.size\n",
    "        \n",
    "def doCd(currentDir, newDir):\n",
    "    if newDir == '..':\n",
    "        currentDir = currentDir.parent\n",
    "    else:\n",
    "        currentDir = currentDir.directories[newDir]\n",
    "\n",
    "def doDir(currentDir, newDir):\n",
    "    currentDir.directories[newDir] = Directory(newDir, currentDir)\n",
    "\n",
    "def doFile(currentDir, size:int, name:str):\n",
    "    currentDir.directories.files.append( File(name, size))\n",
    "\n",
    "with open(\"day7.txt\") as day:\n",
    "\n",
    "    root=Directory('/', None)\n",
    "    current = root\n",
    "\n",
    "    while( line := day.readline() ):\n",
    "        arr = line.split( ' ' )\n",
    "\n",
    "        if arr[0] == '$' and arr[1] =='cd':\n",
    "            doCd(current, arr[2])\n",
    "        elif arr[0] == 'dir':\n",
    "            doDir(current, arr[1])\n",
    "        elif arr[0].isnumeric():\n",
    "            doFile(arr[0], arr[1])\n",
    "\n"
   ]
  },
  {
   "cell_type": "code",
   "execution_count": 16,
   "metadata": {},
   "outputs": [
    {
     "name": "stdout",
     "output_type": "stream",
     "text": [
      "3698\n"
     ]
    }
   ],
   "source": []
  },
  {
   "cell_type": "markdown",
   "metadata": {},
   "source": []
  }
 ],
 "metadata": {
  "kernelspec": {
   "display_name": "Python 3.10.6 64-bit",
   "language": "python",
   "name": "python3"
  },
  "language_info": {
   "codemirror_mode": {
    "name": "ipython",
    "version": 3
   },
   "file_extension": ".py",
   "mimetype": "text/x-python",
   "name": "python",
   "nbconvert_exporter": "python",
   "pygments_lexer": "ipython3",
   "version": "3.8.10"
  },
  "orig_nbformat": 4,
  "vscode": {
   "interpreter": {
    "hash": "916dbcbb3f70747c44a77c7bcd40155683ae19c65e1c03b4aa3499c5328201f1"
   }
  }
 },
 "nbformat": 4,
 "nbformat_minor": 2
}
