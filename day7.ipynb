{
 "cells": [
  {
   "cell_type": "markdown",
   "metadata": {},
   "source": []
  },
  {
   "cell_type": "code",
   "execution_count": 25,
   "metadata": {},
   "outputs": [
    {
     "ename": "AttributeError",
     "evalue": "'str' object has no attribute 'size'",
     "output_type": "error",
     "traceback": [
      "\u001b[0;31m---------------------------------------------------------------------------\u001b[0m",
      "\u001b[0;31mAttributeError\u001b[0m                            Traceback (most recent call last)",
      "Cell \u001b[0;32mIn[25], line 70\u001b[0m\n\u001b[1;32m     67\u001b[0m     \u001b[39mfor\u001b[39;00m e \u001b[39min\u001b[39;00m d\u001b[39m.\u001b[39mdirectories:\n\u001b[1;32m     68\u001b[0m         test(e)\n\u001b[0;32m---> 70\u001b[0m test(root)\n\u001b[1;32m     72\u001b[0m \u001b[39mprint\u001b[39m(\u001b[39mlen\u001b[39m(directories))\n\u001b[1;32m     73\u001b[0m \u001b[39mprint\u001b[39m(total)\n",
      "Cell \u001b[0;32mIn[25], line 68\u001b[0m, in \u001b[0;36mtest\u001b[0;34m(d)\u001b[0m\n\u001b[1;32m     66\u001b[0m     total\u001b[39m+\u001b[39m\u001b[39m=\u001b[39md\u001b[39m.\u001b[39msize()\n\u001b[1;32m     67\u001b[0m \u001b[39mfor\u001b[39;00m e \u001b[39min\u001b[39;00m d\u001b[39m.\u001b[39mdirectories:\n\u001b[0;32m---> 68\u001b[0m     test(e)\n",
      "Cell \u001b[0;32mIn[25], line 64\u001b[0m, in \u001b[0;36mtest\u001b[0;34m(d)\u001b[0m\n\u001b[1;32m     63\u001b[0m \u001b[39mdef\u001b[39;00m \u001b[39mtest\u001b[39m(d:Directory):\n\u001b[0;32m---> 64\u001b[0m     \u001b[39mif\u001b[39;00m d\u001b[39m.\u001b[39;49msize() \u001b[39m<\u001b[39m\u001b[39m=\u001b[39m \u001b[39m100000\u001b[39m:\n\u001b[1;32m     65\u001b[0m         directories\u001b[39m.\u001b[39mappend(root)\n\u001b[1;32m     66\u001b[0m         total\u001b[39m+\u001b[39m\u001b[39m=\u001b[39md\u001b[39m.\u001b[39msize()\n",
      "\u001b[0;31mAttributeError\u001b[0m: 'str' object has no attribute 'size'"
     ]
    }
   ],
   "source": [
    "import io\n",
    "\n",
    "class Directory:\n",
    "    def __init__(self, name, parent):\n",
    "        self.name = name\n",
    "        self.files = []\n",
    "        self.directories = {}\n",
    "        self.parent = parent\n",
    "    \n",
    "    def size(self)->int:\n",
    "        size=0\n",
    "        for k in self.directories:\n",
    "            size += self.directories[k].size()\n",
    "\n",
    "        for f in self.files:\n",
    "            size += int(f.size)\n",
    "        \n",
    "        return int(size)\n",
    "\n",
    "\n",
    "class File:\n",
    "    def __init__(self, name:str, size:int):\n",
    "            self.name = name\n",
    "            self.size = size\n",
    "    \n",
    "    def size (self):\n",
    "        return self.size\n",
    "        \n",
    "def doCd(currentDir, newDir):\n",
    "    if newDir == '..':\n",
    "        return currentDir.parent\n",
    "    elif newDir == '/':\n",
    "        return root\n",
    "    else:\n",
    "        return currentDir.directories[newDir]\n",
    "\n",
    "def doDir(currentDir, newDir):\n",
    "    d = Directory(newDir, currentDir)\n",
    "    currentDir.directories[newDir] = d\n",
    "\n",
    "\n",
    "def doFile(currentDir, size:int, name:str):\n",
    "    currentDir.files.append( File(name, size))\n",
    "\n",
    "with open(\"day7.txt\") as day:\n",
    "\n",
    "    root=Directory('/', None)\n",
    "    current = root\n",
    "\n",
    "    while( line := day.readline() ):\n",
    "        arr = line.strip().split( ' ' )\n",
    "\n",
    "        if arr[0] == '$' and arr[1] =='cd':\n",
    "            current = doCd(current, arr[2])\n",
    "        elif arr[0] == 'dir':\n",
    "             doDir(current, arr[1])\n",
    "        elif arr[0].isnumeric():\n",
    "            doFile(current, arr[0], arr[1])\n",
    "\n",
    "    directories=[]\n",
    "    total=0\n",
    "    \n",
    "    def test(d:Directory):\n",
    "        if d.size() <= 100000:\n",
    "            directories.append(root)\n",
    "            total+=d.size()\n",
    "        for e in d.directories:\n",
    "            test( d.directories[e])\n",
    "\n",
    "    test(root)\n",
    "\n",
    "    print(len(directories))\n",
    "    print(total)"
   ]
  },
  {
   "cell_type": "code",
   "execution_count": 16,
   "metadata": {},
   "outputs": [
    {
     "name": "stdout",
     "output_type": "stream",
     "text": [
      "3698\n"
     ]
    }
   ],
   "source": []
  },
  {
   "cell_type": "markdown",
   "metadata": {},
   "source": []
  }
 ],
 "metadata": {
  "kernelspec": {
   "display_name": "Python 3.10.6 64-bit",
   "language": "python",
   "name": "python3"
  },
  "language_info": {
   "codemirror_mode": {
    "name": "ipython",
    "version": 3
   },
   "file_extension": ".py",
   "mimetype": "text/x-python",
   "name": "python",
   "nbconvert_exporter": "python",
   "pygments_lexer": "ipython3",
   "version": "3.10.6"
  },
  "orig_nbformat": 4,
  "vscode": {
   "interpreter": {
    "hash": "916dbcbb3f70747c44a77c7bcd40155683ae19c65e1c03b4aa3499c5328201f1"
   }
  }
 },
 "nbformat": 4,
 "nbformat_minor": 2
}
