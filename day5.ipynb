{
 "cells": [
  {
   "cell_type": "code",
   "execution_count": 13,
   "metadata": {},
   "outputs": [
    {
     "name": "stdout",
     "output_type": "stream",
     "text": [
      "ZBDRNPMVH\n"
     ]
    }
   ],
   "source": [
    "import io\n",
    "\n",
    "with open(\"day5.txt\") as day:\n",
    "    count = 0\n",
    "    stacks = [ ]\n",
    "    for x in range(0,9):\n",
    "        stacks.append([]) \n",
    "        for y in range(0,8):\n",
    "            stacks[x].append('')\n",
    "    \n",
    "    pos=7\n",
    "    while ( ( line := day.readline() ) and pos >=0):\n",
    "        col=0\n",
    "        linecol =1\n",
    "        while(col <= 8):\n",
    "            if line[linecol].isalpha() :\n",
    "                stacks[col][pos] = line[linecol] \n",
    "            else:\n",
    "                stacks[col].pop()\n",
    "            linecol+=4\n",
    "            col+=1\n",
    "        pos -= 1\n",
    "\n",
    "    day.readline()\n",
    "    \n",
    "    while (line := day.readline()):\n",
    "        arr=line.split(' ')\n",
    "        source = int(arr[3])-1\n",
    "        dest = int(arr[5].strip())-1\n",
    "        times = int(arr[1])\n",
    "        for x in range(0,times):\n",
    "            item = stacks[source].pop()\n",
    "            stacks[dest].append(item)\n",
    "\n",
    "outStr=''\n",
    "for x in stacks: \n",
    "    outStr += x.pop()\n",
    "\n",
    "print( outStr )     "
   ]
  },
  {
   "cell_type": "markdown",
   "metadata": {},
   "source": []
  },
  {
   "cell_type": "code",
   "execution_count": 18,
   "metadata": {},
   "outputs": [
    {
     "name": "stdout",
     "output_type": "stream",
     "text": [
      "WDLPFNNNB\n"
     ]
    }
   ],
   "source": [
    "import io\n",
    "\n",
    "with open(\"day5.txt\") as day:\n",
    "    count = 0\n",
    "    stacks = [ ]\n",
    "    for x in range(0,9):\n",
    "        stacks.append([]) \n",
    "        for y in range(0,8):\n",
    "            stacks[x].append('')\n",
    "    \n",
    "    pos=7\n",
    "    while ( ( line := day.readline() ) and pos >=0):\n",
    "        col=0\n",
    "        linecol =1\n",
    "        while(col <= 8):\n",
    "            if line[linecol].isalpha() :\n",
    "                stacks[col][pos] = line[linecol] \n",
    "            else:\n",
    "                stacks[col].pop()\n",
    "            linecol+=4\n",
    "            col+=1\n",
    "        pos -= 1\n",
    "\n",
    "    day.readline()\n",
    "    \n",
    "    while (line := day.readline()):\n",
    "        arr=line.split(' ')\n",
    "        source = int(arr[3])-1\n",
    "        dest = int(arr[5].strip())-1\n",
    "        times = int(arr[1])\n",
    "        sub=[]\n",
    "        for x in range(0,times):\n",
    "            sub.append( stacks[source].pop() )\n",
    "        \n",
    "        sub.reverse()\n",
    "        for x in sub:\n",
    "            stacks[dest].append(x)\n",
    "\n",
    "outStr=''\n",
    "for x in stacks: \n",
    "    outStr += x.pop()\n",
    "\n",
    "print( outStr )     "
   ]
  }
 ],
 "metadata": {
  "kernelspec": {
   "display_name": "Python 3.10.6 64-bit",
   "language": "python",
   "name": "python3"
  },
  "language_info": {
   "codemirror_mode": {
    "name": "ipython",
    "version": 3
   },
   "file_extension": ".py",
   "mimetype": "text/x-python",
   "name": "python",
   "nbconvert_exporter": "python",
   "pygments_lexer": "ipython3",
   "version": "3.8.10"
  },
  "orig_nbformat": 4,
  "vscode": {
   "interpreter": {
    "hash": "916dbcbb3f70747c44a77c7bcd40155683ae19c65e1c03b4aa3499c5328201f1"
   }
  }
 },
 "nbformat": 4,
 "nbformat_minor": 2
}
