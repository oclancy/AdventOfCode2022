{
 "cells": [
  {
   "cell_type": "code",
   "execution_count": 1,
   "metadata": {},
   "outputs": [
    {
     "name": "stdout",
     "output_type": "stream",
     "text": [
      "Defaulting to user installation because normal site-packages is not writeable\n",
      "Collecting python-stack\n",
      "  Downloading python-stack-0.1.7.11.tar.gz (6.7 kB)\n",
      "  Preparing metadata (setup.py) ... \u001b[?25ldone\n",
      "\u001b[?25hCollecting python-stack-cli>=0.2.8b1\n",
      "  Downloading python-stack-cli-0.2.15.5.tar.gz (7.2 kB)\n",
      "  Preparing metadata (setup.py) ... \u001b[?25ldone\n",
      "\u001b[?25hCollecting stack-require>=0.0.2\n",
      "  Downloading stack-require-0.0.2.1.tar.gz (3.1 kB)\n",
      "  Preparing metadata (setup.py) ... \u001b[?25ldone\n",
      "\u001b[?25hCollecting stack-scaffold>=0.0.2b1\n",
      "  Downloading stack-scaffold-0.0.2b1.tar.gz (3.0 kB)\n",
      "  Preparing metadata (setup.py) ... \u001b[?25ldone\n",
      "\u001b[?25hCollecting aiohttp==1.1.6\n",
      "  Downloading aiohttp-1.1.6.tar.gz (510 kB)\n",
      "\u001b[2K     \u001b[90m━━━━━━━━━━━━━━━━━━━━━━━━━━━━━━━━━━━━━━━\u001b[0m \u001b[32m510.4/510.4 KB\u001b[0m \u001b[31m3.5 MB/s\u001b[0m eta \u001b[36m0:00:00\u001b[0m00:01\u001b[0m00:01\u001b[0m\n",
      "\u001b[?25h  Preparing metadata (setup.py) ... \u001b[?25ldone\n",
      "\u001b[?25hCollecting python-daemon==2.1.2\n",
      "  Downloading python_daemon-2.1.2-py2.py3-none-any.whl (19 kB)\n",
      "Collecting async_timeout>=1.1.0\n",
      "  Downloading async_timeout-4.0.2-py3-none-any.whl (5.8 kB)\n",
      "Collecting chardet\n",
      "  Downloading chardet-5.1.0-py3-none-any.whl (199 kB)\n",
      "\u001b[2K     \u001b[90m━━━━━━━━━━━━━━━━━━━━━━━━━━━━━━━━━━━━━━━\u001b[0m \u001b[32m199.1/199.1 KB\u001b[0m \u001b[31m3.1 MB/s\u001b[0m eta \u001b[36m0:00:00\u001b[0ma \u001b[36m0:00:01\u001b[0m\n",
      "\u001b[?25hCollecting multidict>=2.0\n",
      "  Downloading multidict-6.0.3-cp310-cp310-manylinux_2_17_x86_64.manylinux2014_x86_64.whl (114 kB)\n",
      "\u001b[2K     \u001b[90m━━━━━━━━━━━━━━━━━━━━━━━━━━━━━━━━━━━━━━━\u001b[0m \u001b[32m114.5/114.5 KB\u001b[0m \u001b[31m4.0 MB/s\u001b[0m eta \u001b[36m0:00:00\u001b[0m\n",
      "\u001b[?25hCollecting yarl>=0.5.0\n",
      "  Downloading yarl-1.8.2-cp310-cp310-manylinux_2_17_x86_64.manylinux2014_x86_64.whl (264 kB)\n",
      "\u001b[2K     \u001b[90m━━━━━━━━━━━━━━━━━━━━━━━━━━━━━━━━━━━━━━━\u001b[0m \u001b[32m264.0/264.0 KB\u001b[0m \u001b[31m2.8 MB/s\u001b[0m eta \u001b[36m0:00:00\u001b[0ma \u001b[36m0:00:01\u001b[0m\n",
      "\u001b[?25hCollecting docutils\n",
      "  Downloading docutils-0.19-py3-none-any.whl (570 kB)\n",
      "\u001b[2K     \u001b[90m━━━━━━━━━━━━━━━━━━━━━━━━━━━━━━━━━━━━━━━\u001b[0m \u001b[32m570.5/570.5 KB\u001b[0m \u001b[31m3.5 MB/s\u001b[0m eta \u001b[36m0:00:00\u001b[0ma \u001b[36m0:00:01\u001b[0m\n",
      "\u001b[?25hRequirement already satisfied: setuptools in /usr/lib/python3/dist-packages (from python-daemon==2.1.2->python-stack-cli>=0.2.8b1->python-stack) (59.6.0)\n",
      "Collecting lockfile>=0.10\n",
      "  Downloading lockfile-0.12.2-py2.py3-none-any.whl (13 kB)\n",
      "Requirement already satisfied: idna>=2.0 in /home/oclancy/.local/lib/python3.10/site-packages (from yarl>=0.5.0->aiohttp==1.1.6->python-stack-cli>=0.2.8b1->python-stack) (3.4)\n",
      "Building wheels for collected packages: python-stack, python-stack-cli, aiohttp, stack-require, stack-scaffold\n",
      "  Building wheel for python-stack (setup.py) ... \u001b[?25ldone\n",
      "\u001b[?25h  Created wheel for python-stack: filename=python_stack-0.1.7.11-py3-none-any.whl size=8669 sha256=e013a63121622bf3a88fa3c72e321f514ce8e2f69686775167fafc4c7af4dbf8\n",
      "  Stored in directory: /home/oclancy/.cache/pip/wheels/ca/4b/3b/2c4f9aea0a0d456ca6ac2155443850106a2c4eef0f0bbe20aa\n",
      "  Building wheel for python-stack-cli (setup.py) ... \u001b[?25ldone\n",
      "\u001b[?25h  Created wheel for python-stack-cli: filename=python_stack_cli-0.2.15.5-py3-none-any.whl size=10166 sha256=09c5286d3785890679681ee78c465cd44d5f530c7be77b3f1651b1607cd8f09d\n",
      "  Stored in directory: /home/oclancy/.cache/pip/wheels/0b/a1/51/47ab8f4cad70c4e694c3850fd4c679ed6c0d974fe7b00b0f18\n",
      "  Building wheel for aiohttp (setup.py) ... \u001b[?25ldone\n",
      "\u001b[?25h  Created wheel for aiohttp: filename=aiohttp-1.1.6-cp310-cp310-linux_x86_64.whl size=155431 sha256=807950f600d726d64fc9bb8dbb3a72f2da471333a6a376754c0b93dff76c1195\n",
      "  Stored in directory: /home/oclancy/.cache/pip/wheels/d3/4d/51/6788ae078a8d43cfad55465b1954f94de5f246c6ef88101366\n",
      "  Building wheel for stack-require (setup.py) ... \u001b[?25ldone\n",
      "\u001b[?25h  Created wheel for stack-require: filename=stack_require-0.0.2.1-py3-none-any.whl size=5138 sha256=8edbfedc4069194c3265ebf48da36556eca1a0fc5317107dd8d284aa74705725\n",
      "  Stored in directory: /home/oclancy/.cache/pip/wheels/12/1f/73/3d3d936f71a85cfbac2b812fa3a2ff7bd8bb1a63ebc533bafa\n",
      "  Building wheel for stack-scaffold (setup.py) ... \u001b[?25ldone\n",
      "\u001b[?25h  Created wheel for stack-scaffold: filename=stack_scaffold-0.0.2b1-py3-none-any.whl size=3873 sha256=3813b9f03f9040e8e22dfb5e936747f168e2b0de4471e2482cb04e1435ed2728\n",
      "  Stored in directory: /home/oclancy/.cache/pip/wheels/66/5b/e9/c1620594845a4bbb926a040eccfb19d19ab440ac86b5174903\n",
      "Successfully built python-stack python-stack-cli aiohttp stack-require stack-scaffold\n",
      "Installing collected packages: stack-scaffold, lockfile, multidict, docutils, chardet, async_timeout, yarl, python-daemon, aiohttp, stack-require, python-stack-cli, python-stack\n",
      "Successfully installed aiohttp-1.1.6 async_timeout-4.0.2 chardet-5.1.0 docutils-0.19 lockfile-0.12.2 multidict-6.0.3 python-daemon-2.1.2 python-stack-0.1.7.11 python-stack-cli-0.2.15.5 stack-require-0.0.2.1 stack-scaffold-0.0.2b1 yarl-1.8.2\n",
      "Note: you may need to restart the kernel to use updated packages.\n"
     ]
    }
   ],
   "source": [
    "pip install python-stack"
   ]
  },
  {
   "cell_type": "code",
   "execution_count": 13,
   "metadata": {},
   "outputs": [
    {
     "name": "stdout",
     "output_type": "stream",
     "text": [
      "ZBDRNPMVH\n"
     ]
    }
   ],
   "source": [
    "import io\n",
    "\n",
    "with open(\"day5.txt\") as day:\n",
    "    count = 0\n",
    "    stacks = [ ]\n",
    "    for x in range(0,9):\n",
    "        stacks.append([]) \n",
    "        for y in range(0,8):\n",
    "            stacks[x].append('')\n",
    "    \n",
    "    pos=7\n",
    "    while ( ( line := day.readline() ) and pos >=0):\n",
    "        col=0\n",
    "        linecol =1\n",
    "        while(col <= 8):\n",
    "            if line[linecol].isalpha() :\n",
    "                stacks[col][pos] = line[linecol] \n",
    "            else:\n",
    "                stacks[col].pop()\n",
    "            linecol+=4\n",
    "            col+=1\n",
    "        pos -= 1\n",
    "\n",
    "    day.readline()\n",
    "    \n",
    "    while (line := day.readline()):\n",
    "        arr=line.split(' ')\n",
    "        source = int(arr[3])-1\n",
    "        dest = int(arr[5].strip())-1\n",
    "        times = int(arr[1])\n",
    "        for x in range(0,times):\n",
    "            item = stacks[source].pop()\n",
    "            stacks[dest].append(item)\n",
    "\n",
    "outStr=''\n",
    "for x in stacks: \n",
    "    outStr += x.pop()\n",
    "\n",
    "print( outStr )     "
   ]
  },
  {
   "cell_type": "markdown",
   "metadata": {},
   "source": []
  },
  {
   "cell_type": "code",
   "execution_count": 18,
   "metadata": {},
   "outputs": [
    {
     "name": "stdout",
     "output_type": "stream",
     "text": [
      "WDLPFNNNB\n"
     ]
    }
   ],
   "source": [
    "import io\n",
    "\n",
    "with open(\"day5.txt\") as day:\n",
    "    count = 0\n",
    "    stacks = [ ]\n",
    "    for x in range(0,9):\n",
    "        stacks.append([]) \n",
    "        for y in range(0,8):\n",
    "            stacks[x].append('')\n",
    "    \n",
    "    pos=7\n",
    "    while ( ( line := day.readline() ) and pos >=0):\n",
    "        col=0\n",
    "        linecol =1\n",
    "        while(col <= 8):\n",
    "            if line[linecol].isalpha() :\n",
    "                stacks[col][pos] = line[linecol] \n",
    "            else:\n",
    "                stacks[col].pop()\n",
    "            linecol+=4\n",
    "            col+=1\n",
    "        pos -= 1\n",
    "\n",
    "    day.readline()\n",
    "    \n",
    "    while (line := day.readline()):\n",
    "        arr=line.split(' ')\n",
    "        source = int(arr[3])-1\n",
    "        dest = int(arr[5].strip())-1\n",
    "        times = int(arr[1])\n",
    "        sub=[]\n",
    "        for x in range(0,times):\n",
    "            sub.append( stacks[source].pop() )\n",
    "        \n",
    "        sub.reverse()\n",
    "        for x in sub:\n",
    "            stacks[dest].append(x)\n",
    "\n",
    "outStr=''\n",
    "for x in stacks: \n",
    "    outStr += x.pop()\n",
    "\n",
    "print( outStr )     "
   ]
  }
 ],
 "metadata": {
  "kernelspec": {
   "display_name": "Python 3.10.6 64-bit",
   "language": "python",
   "name": "python3"
  },
  "language_info": {
   "codemirror_mode": {
    "name": "ipython",
    "version": 3
   },
   "file_extension": ".py",
   "mimetype": "text/x-python",
   "name": "python",
   "nbconvert_exporter": "python",
   "pygments_lexer": "ipython3",
   "version": "3.10.6"
  },
  "orig_nbformat": 4,
  "vscode": {
   "interpreter": {
    "hash": "916dbcbb3f70747c44a77c7bcd40155683ae19c65e1c03b4aa3499c5328201f1"
   }
  }
 },
 "nbformat": 4,
 "nbformat_minor": 2
}
