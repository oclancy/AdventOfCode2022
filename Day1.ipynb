{
 "cells": [
  {
   "cell_type": "code",
   "execution_count": 16,
   "metadata": {},
   "outputs": [
    {
     "name": "stdout",
     "output_type": "stream",
     "text": [
      "top 3 207410\n",
      "best calories 72602\n",
      "best calories index 217\n"
     ]
    }
   ],
   "source": [
    "import io\n",
    "\n",
    "with open(\"day1.txt\") as day1:\n",
    "    bestTotalCalories = 0\n",
    "    bestTotalCaloriesIndex = 0\n",
    "    currIndex = 0\n",
    "    currTotalCalories = 0\n",
    "    allCalories = []\n",
    "    while (line := day1.readline()):\n",
    "        if(line.strip()):\n",
    "            currTotalCalories += int(line)\n",
    "        else:\n",
    "            if(currTotalCalories > bestTotalCalories):\n",
    "                bestTotalCalories = currTotalCalories\n",
    "                bestTotalCaloriesIndex = currIndex\n",
    "            allCalories.append(currTotalCalories)\n",
    "            currTotalCalories = 0\n",
    "            currIndex += 1\n",
    "\n",
    "\n",
    "    allCalories.sort(reverse=True)\n",
    "    top3 = sum(allCalories[:3])\n",
    "    print(\"top 3\", top3)\n",
    "    print(\"best calories\", bestTotalCalories)\n",
    "    print(\"best calories index\", bestTotalCaloriesIndex)\n",
    "\n",
    "\n",
    "\n",
    "            \n",
    "\n",
    "\n",
    "\n"
   ]
  }
 ],
 "metadata": {
  "kernelspec": {
   "display_name": "Python 3.8.2 64-bit",
   "language": "python",
   "name": "python3"
  },
  "language_info": {
   "codemirror_mode": {
    "name": "ipython",
    "version": 3
   },
   "file_extension": ".py",
   "mimetype": "text/x-python",
   "name": "python",
   "nbconvert_exporter": "python",
   "pygments_lexer": "ipython3",
   "version": "3.8.10"
  },
  "orig_nbformat": 4,
  "vscode": {
   "interpreter": {
    "hash": "916dbcbb3f70747c44a77c7bcd40155683ae19c65e1c03b4aa3499c5328201f1"
   }
  }
 },
 "nbformat": 4,
 "nbformat_minor": 2
}
