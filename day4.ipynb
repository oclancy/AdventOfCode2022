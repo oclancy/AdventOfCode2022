{
 "cells": [
  {
   "cell_type": "code",
   "execution_count": null,
   "metadata": {},
   "outputs": [],
   "source": [
    "import io\n",
    "\n",
    "with open(\"day4.txt\") as day:\n",
    "    total = 0\n",
    "    while (line := day.readline()):\n",
    "        line = line.strip()\n",
    "        length = len(line)\n",
    "        left = line[:int(length/2)]\n",
    "        right = line[int(length/2):]\n",
    "\n",
    "        leftDict={}\n",
    "        for x in range(0,len(left)):\n",
    "            leftDict[ left[x] ] = left[x]\n",
    "\n",
    "        for x in right:\n",
    "            if(x in leftDict):\n",
    "                if ord(x) > 96:\n",
    "                    total += (ord(x) - ord('a'))+1\n",
    "                elif ord(x) > 64:\n",
    "                    total += (ord(x) - ord('A'))+27\n",
    "                break\n",
    "                \n",
    "print(total)\n",
    "\n",
    "\n",
    "            \n",
    "\n",
    "\n",
    "\n"
   ]
  }
 ],
 "metadata": {
  "kernelspec": {
   "display_name": "Python 3.10.6 64-bit",
   "language": "python",
   "name": "python3"
  },
  "language_info": {
   "name": "python",
   "version": "3.10.6"
  },
  "orig_nbformat": 4,
  "vscode": {
   "interpreter": {
    "hash": "916dbcbb3f70747c44a77c7bcd40155683ae19c65e1c03b4aa3499c5328201f1"
   }
  }
 },
 "nbformat": 4,
 "nbformat_minor": 2
}
