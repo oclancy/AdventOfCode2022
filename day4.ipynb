{
 "cells": [
  {
   "cell_type": "code",
   "execution_count": 5,
   "metadata": {},
   "outputs": [
    {
     "name": "stdout",
     "output_type": "stream",
     "text": [
      "513\n"
     ]
    }
   ],
   "source": [
    "import io\n",
    "\n",
    "with open(\"day4.txt\") as day:\n",
    "    count = 0\n",
    "    while (line := day.readline()):\n",
    "        line=line.strip()\n",
    "        arr=line.split(',')\n",
    "        left = arr[0]\n",
    "        right = arr[1]\n",
    "        leftl = int(left.split('-')[0])\n",
    "        leftu = int(left.split('-')[1])\n",
    "        rightl = int(right.split('-')[0])\n",
    "        rightu = int(right.split('-')[1])\n",
    "\n",
    "        if((leftl<=rightl and leftu>=rightu) or (rightl<=leftl and rightu>=leftu)):\n",
    "         count+=1\n",
    "\n",
    "print(count)\n",
    "\n",
    "        \n",
    "\n",
    "\n",
    "\n"
   ]
  },
  {
   "cell_type": "code",
   "execution_count": 6,
   "metadata": {},
   "outputs": [
    {
     "name": "stdout",
     "output_type": "stream",
     "text": [
      "878\n"
     ]
    }
   ],
   "source": [
    "\n",
    "import io\n",
    "\n",
    "with open(\"day4.txt\") as day:\n",
    "    count = 0\n",
    "    while (line := day.readline()):\n",
    "        line=line.strip()\n",
    "        arr=line.split(',')\n",
    "        left = arr[0]\n",
    "        right = arr[1]\n",
    "        leftl = int(left.split('-')[0])\n",
    "        leftu = int(left.split('-')[1])\n",
    "        rightl = int(right.split('-')[0])\n",
    "        rightu = int(right.split('-')[1])\n",
    "\n",
    "        if((leftl<=rightl and leftu>=rightl) \n",
    "            or (rightl<=leftl and rightu>=leftl)):\n",
    "         count+=1\n",
    "\n",
    "print(count)"
   ]
  }
 ],
 "metadata": {
  "kernelspec": {
   "display_name": "Python 3.10.6 64-bit",
   "language": "python",
   "name": "python3"
  },
  "language_info": {
   "codemirror_mode": {
    "name": "ipython",
    "version": 3
   },
   "file_extension": ".py",
   "mimetype": "text/x-python",
   "name": "python",
   "nbconvert_exporter": "python",
   "pygments_lexer": "ipython3",
   "version": "3.10.6"
  },
  "orig_nbformat": 4,
  "vscode": {
   "interpreter": {
    "hash": "916dbcbb3f70747c44a77c7bcd40155683ae19c65e1c03b4aa3499c5328201f1"
   }
  }
 },
 "nbformat": 4,
 "nbformat_minor": 2
}
