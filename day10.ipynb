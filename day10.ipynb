{
 "cells": [
  {
   "cell_type": "markdown",
   "metadata": {},
   "source": []
  },
  {
   "cell_type": "code",
   "execution_count": 9,
   "metadata": {},
   "outputs": [
    {
     "name": "stdout",
     "output_type": "stream",
     "text": [
      "15360\n"
     ]
    }
   ],
   "source": [
    "import io\n",
    "\n",
    "def pos(i:int):\n",
    "    i+=1\n",
    "def neg(i:int):\n",
    "    i-=1    \n",
    "\n",
    "with open(\"day10.txt\") as day:\n",
    "\n",
    "    val = 1\n",
    "    cycle = 0\n",
    "    cycles = (20,60,100,140,180,220)\n",
    "    add = 0\n",
    "    total =0\n",
    "    target =0\n",
    "    \n",
    "    while(cycle < 221):\n",
    "        if target == cycle :\n",
    "            val += add\n",
    "            add=0\n",
    "            while( line := day.readline() ):\n",
    "                arr= line.strip().split(' ')\n",
    "                match arr[0]:\n",
    "                    case 'noop': \n",
    "                        target = cycle + 1\n",
    "                        break\n",
    "                    case 'addx': \n",
    "                        add = int(arr[1])\n",
    "                        target = cycle + 2\n",
    "                        break\n",
    "\n",
    "        cycle+=1\n",
    "        if cycle in cycles:\n",
    "          total += cycle * val\n",
    "\n",
    "    print(total)\n"
   ]
  }
 ],
 "metadata": {
  "kernelspec": {
   "display_name": "Python 3.10.6 64-bit",
   "language": "python",
   "name": "python3"
  },
  "language_info": {
   "codemirror_mode": {
    "name": "ipython",
    "version": 3
   },
   "file_extension": ".py",
   "mimetype": "text/x-python",
   "name": "python",
   "nbconvert_exporter": "python",
   "pygments_lexer": "ipython3",
   "version": "3.10.6"
  },
  "orig_nbformat": 4,
  "vscode": {
   "interpreter": {
    "hash": "916dbcbb3f70747c44a77c7bcd40155683ae19c65e1c03b4aa3499c5328201f1"
   }
  }
 },
 "nbformat": 4,
 "nbformat_minor": 2
}
